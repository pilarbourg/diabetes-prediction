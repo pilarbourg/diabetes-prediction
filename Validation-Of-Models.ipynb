{
 "cells": [
  {
   "metadata": {},
   "cell_type": "markdown",
   "source": [
    "# **Validation of Models**\n",
    "This notebook focuses on the validation of models by analyzing both their accuracy and cost-based performance."
   ],
   "id": "3afb54435590630a"
  },
  {
   "metadata": {},
   "cell_type": "markdown",
   "source": [
    "---\n",
    "\n",
    "## Accuracy-based performance"
   ],
   "id": "a78d7c4f28dd71cc"
  },
  {
   "metadata": {},
   "cell_type": "code",
   "outputs": [],
   "execution_count": null,
   "source": [
    "from ucimlrepo import fetch_ucirepo\n",
    "\n",
    "cdc_diabetes_health_indicators = fetch_ucirepo(id=891)\n",
    "\n",
    "x = cdc_diabetes_health_indicators.data.features\n",
    "y = cdc_diabetes_health_indicators.data.targets"
   ],
   "id": "9adcb76069f29092"
  },
  {
   "metadata": {},
   "cell_type": "markdown",
   "source": "### 1. Decision tree",
   "id": "f97069a17bd37e8a"
  },
  {
   "metadata": {},
   "cell_type": "code",
   "outputs": [],
   "execution_count": null,
   "source": "# 1. Decision tree\n",
   "id": "f511f51d169ecc83"
  },
  {
   "metadata": {},
   "cell_type": "markdown",
   "source": "### 2. Rule-based model",
   "id": "ea95cd7b67b1e002"
  },
  {
   "metadata": {},
   "cell_type": "code",
   "outputs": [],
   "execution_count": null,
   "source": "# 2. Rule-based model\n",
   "id": "97c1bbfef666b7fb"
  },
  {
   "metadata": {},
   "cell_type": "markdown",
   "source": "### 3. Naive Bayes",
   "id": "507bb954900c532a"
  },
  {
   "metadata": {},
   "cell_type": "code",
   "outputs": [],
   "execution_count": null,
   "source": "# 3. Naive Bayes\n",
   "id": "82d00d3ed632c361"
  },
  {
   "metadata": {},
   "cell_type": "markdown",
   "source": "### 4. Bayesian network",
   "id": "2231d2faa44c4502"
  },
  {
   "metadata": {},
   "cell_type": "code",
   "outputs": [],
   "execution_count": null,
   "source": "# 4. Bayesian network\n",
   "id": "e364302894292fb0"
  },
  {
   "metadata": {},
   "cell_type": "markdown",
   "source": "### 5. Neural network with number of hidden layers automatically chosen",
   "id": "dd0144b194cc9829"
  },
  {
   "metadata": {},
   "cell_type": "code",
   "outputs": [],
   "execution_count": null,
   "source": "# 5. Neural network with the number of hidden layers automatically chosen\n",
   "id": "865638f5facf1434"
  },
  {
   "metadata": {},
   "cell_type": "markdown",
   "source": "### 6. Neural network with chosen number of hidden layers (1 and 2)",
   "id": "1ff2ec9a11c59d10"
  },
  {
   "metadata": {},
   "cell_type": "code",
   "outputs": [],
   "execution_count": null,
   "source": "# 6. Neural network with a chosen number of hidden layers (1 and 2)\n",
   "id": "263b5fa60742d6a2"
  },
  {
   "metadata": {},
   "cell_type": "markdown",
   "source": "### 7. Deep learning",
   "id": "7cebeb5f0b0b0546"
  },
  {
   "metadata": {},
   "cell_type": "code",
   "outputs": [],
   "execution_count": null,
   "source": "# 7. Deep learning\n",
   "id": "e6337e19be34978b"
  },
  {
   "metadata": {},
   "cell_type": "markdown",
   "source": "### 8. SVM",
   "id": "8caadd8184a33821"
  },
  {
   "metadata": {},
   "cell_type": "code",
   "outputs": [],
   "execution_count": null,
   "source": "# 8. SVM\n",
   "id": "6d2e9ceac384e89f"
  },
  {
   "metadata": {},
   "cell_type": "markdown",
   "source": [
    "<br><br>\n",
    "\n",
    "---\n",
    "\n",
    "## Cost-based performance"
   ],
   "id": "bb8fed6ef0f63a75"
  },
  {
   "metadata": {},
   "cell_type": "code",
   "outputs": [],
   "execution_count": null,
   "source": "",
   "id": "934d08a7c40ce138"
  }
 ],
 "metadata": {
  "kernelspec": {
   "display_name": "Python 3",
   "language": "python",
   "name": "python3"
  },
  "language_info": {
   "codemirror_mode": {
    "name": "ipython",
    "version": 2
   },
   "file_extension": ".py",
   "mimetype": "text/x-python",
   "name": "python",
   "nbconvert_exporter": "python",
   "pygments_lexer": "ipython2",
   "version": "2.7.6"
  }
 },
 "nbformat": 4,
 "nbformat_minor": 5
}
